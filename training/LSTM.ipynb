{
  "cells": [
    {
      "cell_type": "markdown",
      "metadata": {
        "id": "pUf9npSUVJT6"
      },
      "source": [
        "#Install Requirements"
      ]
    },
    {
      "cell_type": "code",
      "execution_count": null,
      "metadata": {
        "colab": {
          "base_uri": "https://localhost:8080/"
        },
        "id": "GtkF0EcpxWc_",
        "outputId": "5cadc11d-258a-4783-ebe9-94c9384a249d"
      },
      "outputs": [
        {
          "name": "stdout",
          "output_type": "stream",
          "text": [
            "\u001b[31mERROR: Could not open requirements file: [Errno 2] No such file or directory: 'requirements.txt'\u001b[0m\n"
          ]
        }
      ],
      "source": [
        "\n",
        "import pandas as pd\n",
        "import numpy as np\n",
        "from sklearn.model_selection import train_test_split\n",
        "import tensorflow as tf\n",
        "from tensorflow.keras.models import Sequential\n",
        "from tensorflow.keras.layers import Dropout, Dense, LSTM\n",
        "from sklearn.preprocessing import MinMaxScaler"
      ]
    },
    {
      "cell_type": "markdown",
      "metadata": {
        "id": "cB1dJ46Pd1To"
      },
      "source": [
        "#Read Dataset"
      ]
    },
    {
      "cell_type": "code",
      "execution_count": null,
      "metadata": {
        "id": "c4xXd6SFPwxH"
      },
      "outputs": [],
      "source": [
        "data= pd.read_csv('IBM.csv')"
      ]
    },
    {
      "cell_type": "code",
      "execution_count": null,
      "metadata": {
        "colab": {
          "base_uri": "https://localhost:8080/",
          "height": 206
        },
        "id": "Gb6B4pQoQCBN",
        "outputId": "2f4a94a8-24f7-4e22-d5d1-1f90914b7db0"
      },
      "outputs": [
        {
          "data": {
            "text/html": [
              "\n",
              "  <div id=\"df-b3aeef9c-b873-4837-b481-8895e74adbdf\">\n",
              "    <div class=\"colab-df-container\">\n",
              "      <div>\n",
              "<style scoped>\n",
              "    .dataframe tbody tr th:only-of-type {\n",
              "        vertical-align: middle;\n",
              "    }\n",
              "\n",
              "    .dataframe tbody tr th {\n",
              "        vertical-align: top;\n",
              "    }\n",
              "\n",
              "    .dataframe thead th {\n",
              "        text-align: right;\n",
              "    }\n",
              "</style>\n",
              "<table border=\"1\" class=\"dataframe\">\n",
              "  <thead>\n",
              "    <tr style=\"text-align: right;\">\n",
              "      <th></th>\n",
              "      <th>Date</th>\n",
              "      <th>Open</th>\n",
              "      <th>High</th>\n",
              "      <th>Low</th>\n",
              "      <th>Close</th>\n",
              "      <th>Adj Close</th>\n",
              "      <th>Volume</th>\n",
              "    </tr>\n",
              "  </thead>\n",
              "  <tbody>\n",
              "    <tr>\n",
              "      <th>0</th>\n",
              "      <td>2019-10-07</td>\n",
              "      <td>136.003830</td>\n",
              "      <td>136.424469</td>\n",
              "      <td>135.009567</td>\n",
              "      <td>135.066925</td>\n",
              "      <td>116.428032</td>\n",
              "      <td>2538119</td>\n",
              "    </tr>\n",
              "    <tr>\n",
              "      <th>1</th>\n",
              "      <td>2019-10-08</td>\n",
              "      <td>134.072662</td>\n",
              "      <td>134.292542</td>\n",
              "      <td>132.170166</td>\n",
              "      <td>132.294449</td>\n",
              "      <td>114.038155</td>\n",
              "      <td>3373768</td>\n",
              "    </tr>\n",
              "    <tr>\n",
              "      <th>2</th>\n",
              "      <td>2019-10-09</td>\n",
              "      <td>133.623322</td>\n",
              "      <td>134.158707</td>\n",
              "      <td>132.686417</td>\n",
              "      <td>133.527725</td>\n",
              "      <td>115.101242</td>\n",
              "      <td>2741357</td>\n",
              "    </tr>\n",
              "    <tr>\n",
              "      <th>3</th>\n",
              "      <td>2019-10-10</td>\n",
              "      <td>133.623322</td>\n",
              "      <td>135.544937</td>\n",
              "      <td>133.422562</td>\n",
              "      <td>134.923523</td>\n",
              "      <td>116.304428</td>\n",
              "      <td>2713010</td>\n",
              "    </tr>\n",
              "    <tr>\n",
              "      <th>4</th>\n",
              "      <td>2019-10-11</td>\n",
              "      <td>136.491394</td>\n",
              "      <td>138.145309</td>\n",
              "      <td>136.338425</td>\n",
              "      <td>136.481842</td>\n",
              "      <td>117.647682</td>\n",
              "      <td>3134653</td>\n",
              "    </tr>\n",
              "  </tbody>\n",
              "</table>\n",
              "</div>\n",
              "      <button class=\"colab-df-convert\" onclick=\"convertToInteractive('df-b3aeef9c-b873-4837-b481-8895e74adbdf')\"\n",
              "              title=\"Convert this dataframe to an interactive table.\"\n",
              "              style=\"display:none;\">\n",
              "        \n",
              "  <svg xmlns=\"http://www.w3.org/2000/svg\" height=\"24px\"viewBox=\"0 0 24 24\"\n",
              "       width=\"24px\">\n",
              "    <path d=\"M0 0h24v24H0V0z\" fill=\"none\"/>\n",
              "    <path d=\"M18.56 5.44l.94 2.06.94-2.06 2.06-.94-2.06-.94-.94-2.06-.94 2.06-2.06.94zm-11 1L8.5 8.5l.94-2.06 2.06-.94-2.06-.94L8.5 2.5l-.94 2.06-2.06.94zm10 10l.94 2.06.94-2.06 2.06-.94-2.06-.94-.94-2.06-.94 2.06-2.06.94z\"/><path d=\"M17.41 7.96l-1.37-1.37c-.4-.4-.92-.59-1.43-.59-.52 0-1.04.2-1.43.59L10.3 9.45l-7.72 7.72c-.78.78-.78 2.05 0 2.83L4 21.41c.39.39.9.59 1.41.59.51 0 1.02-.2 1.41-.59l7.78-7.78 2.81-2.81c.8-.78.8-2.07 0-2.86zM5.41 20L4 18.59l7.72-7.72 1.47 1.35L5.41 20z\"/>\n",
              "  </svg>\n",
              "      </button>\n",
              "      \n",
              "  <style>\n",
              "    .colab-df-container {\n",
              "      display:flex;\n",
              "      flex-wrap:wrap;\n",
              "      gap: 12px;\n",
              "    }\n",
              "\n",
              "    .colab-df-convert {\n",
              "      background-color: #E8F0FE;\n",
              "      border: none;\n",
              "      border-radius: 50%;\n",
              "      cursor: pointer;\n",
              "      display: none;\n",
              "      fill: #1967D2;\n",
              "      height: 32px;\n",
              "      padding: 0 0 0 0;\n",
              "      width: 32px;\n",
              "    }\n",
              "\n",
              "    .colab-df-convert:hover {\n",
              "      background-color: #E2EBFA;\n",
              "      box-shadow: 0px 1px 2px rgba(60, 64, 67, 0.3), 0px 1px 3px 1px rgba(60, 64, 67, 0.15);\n",
              "      fill: #174EA6;\n",
              "    }\n",
              "\n",
              "    [theme=dark] .colab-df-convert {\n",
              "      background-color: #3B4455;\n",
              "      fill: #D2E3FC;\n",
              "    }\n",
              "\n",
              "    [theme=dark] .colab-df-convert:hover {\n",
              "      background-color: #434B5C;\n",
              "      box-shadow: 0px 1px 3px 1px rgba(0, 0, 0, 0.15);\n",
              "      filter: drop-shadow(0px 1px 2px rgba(0, 0, 0, 0.3));\n",
              "      fill: #FFFFFF;\n",
              "    }\n",
              "  </style>\n",
              "\n",
              "      <script>\n",
              "        const buttonEl =\n",
              "          document.querySelector('#df-b3aeef9c-b873-4837-b481-8895e74adbdf button.colab-df-convert');\n",
              "        buttonEl.style.display =\n",
              "          google.colab.kernel.accessAllowed ? 'block' : 'none';\n",
              "\n",
              "        async function convertToInteractive(key) {\n",
              "          const element = document.querySelector('#df-b3aeef9c-b873-4837-b481-8895e74adbdf');\n",
              "          const dataTable =\n",
              "            await google.colab.kernel.invokeFunction('convertToInteractive',\n",
              "                                                     [key], {});\n",
              "          if (!dataTable) return;\n",
              "\n",
              "          const docLinkHtml = 'Like what you see? Visit the ' +\n",
              "            '<a target=\"_blank\" href=https://colab.research.google.com/notebooks/data_table.ipynb>data table notebook</a>'\n",
              "            + ' to learn more about interactive tables.';\n",
              "          element.innerHTML = '';\n",
              "          dataTable['output_type'] = 'display_data';\n",
              "          await google.colab.output.renderOutput(dataTable, element);\n",
              "          const docLink = document.createElement('div');\n",
              "          docLink.innerHTML = docLinkHtml;\n",
              "          element.appendChild(docLink);\n",
              "        }\n",
              "      </script>\n",
              "    </div>\n",
              "  </div>\n",
              "  "
            ],
            "text/plain": [
              "         Date        Open        High         Low       Close   Adj Close  \\\n",
              "0  2019-10-07  136.003830  136.424469  135.009567  135.066925  116.428032   \n",
              "1  2019-10-08  134.072662  134.292542  132.170166  132.294449  114.038155   \n",
              "2  2019-10-09  133.623322  134.158707  132.686417  133.527725  115.101242   \n",
              "3  2019-10-10  133.623322  135.544937  133.422562  134.923523  116.304428   \n",
              "4  2019-10-11  136.491394  138.145309  136.338425  136.481842  117.647682   \n",
              "\n",
              "    Volume  \n",
              "0  2538119  \n",
              "1  3373768  \n",
              "2  2741357  \n",
              "3  2713010  \n",
              "4  3134653  "
            ]
          },
          "execution_count": 5,
          "metadata": {},
          "output_type": "execute_result"
        }
      ],
      "source": [
        "data.head()"
      ]
    },
    {
      "cell_type": "markdown",
      "metadata": {
        "id": "kLmZj2-IeFzn"
      },
      "source": [
        "#Data Preprocessing\n",
        "The close value of the stock is chosen as the data to train our model. Data is scaled using MinMaxScaler. The dataset consist of 755 datapoints which is divided to train and test datasets. First 600 is selected as train dataset and other 155 datapoinst as test dataset."
      ]
    },
    {
      "cell_type": "code",
      "execution_count": null,
      "metadata": {
        "id": "9zatWnNgQFUW"
      },
      "outputs": [],
      "source": [
        "data['Date']= pd.to_datetime(data.Date)"
      ]
    },
    {
      "cell_type": "code",
      "execution_count": null,
      "metadata": {
        "id": "bu4T4_UArKLa"
      },
      "outputs": [],
      "source": [
        "feature = data.iloc[:, 4:5]"
      ]
    },
    {
      "cell_type": "code",
      "execution_count": null,
      "metadata": {
        "id": "bo2s5kg2tZrg"
      },
      "outputs": [],
      "source": [
        "scale= MinMaxScaler(feature_range=(0, 1))"
      ]
    },
    {
      "cell_type": "code",
      "execution_count": null,
      "metadata": {
        "id": "TzDz5dKctm57"
      },
      "outputs": [],
      "source": [
        "feature = scale.fit_transform(feature)"
      ]
    },
    {
      "cell_type": "code",
      "execution_count": null,
      "metadata": {
        "colab": {
          "base_uri": "https://localhost:8080/"
        },
        "id": "tR3CXllovN8Z",
        "outputId": "cfebeeb4-be00-46d1-82a7-4e0d6f03e4f0"
      },
      "outputs": [
        {
          "name": "stdout",
          "output_type": "stream",
          "text": [
            "<class 'pandas.core.frame.DataFrame'>\n",
            "RangeIndex: 756 entries, 0 to 755\n",
            "Data columns (total 7 columns):\n",
            " #   Column     Non-Null Count  Dtype         \n",
            "---  ------     --------------  -----         \n",
            " 0   Date       756 non-null    datetime64[ns]\n",
            " 1   Open       756 non-null    float64       \n",
            " 2   High       756 non-null    float64       \n",
            " 3   Low        756 non-null    float64       \n",
            " 4   Close      756 non-null    float64       \n",
            " 5   Adj Close  756 non-null    float64       \n",
            " 6   Volume     756 non-null    int64         \n",
            "dtypes: datetime64[ns](1), float64(5), int64(1)\n",
            "memory usage: 41.5 KB\n"
          ]
        }
      ],
      "source": [
        "data.info()"
      ]
    },
    {
      "cell_type": "code",
      "execution_count": null,
      "metadata": {
        "id": "gM53K_o1u6t3"
      },
      "outputs": [],
      "source": [
        "train = feature[:600]\n",
        "test = feature[600:]"
      ]
    },
    {
      "cell_type": "markdown",
      "metadata": {
        "id": "qoWz6ePDiJE9"
      },
      "source": [
        "The previous 30 days data will be used as an input for the model to predict the value of next day. That's why the training data is divided to the two parts using this script. Furthermore, for the model we need to have 3D data and because of that it is reshaped."
      ]
    },
    {
      "cell_type": "code",
      "execution_count": null,
      "metadata": {
        "id": "lqkANxGfvXvA",
        "colab": {
          "base_uri": "https://localhost:8080/",
          "height": 235
        },
        "outputId": "6733f7bf-c382-443e-d1a1-2159008a1cbf"
      },
      "outputs": [
        {
          "output_type": "error",
          "ename": "NameError",
          "evalue": "ignored",
          "traceback": [
            "\u001b[0;31m---------------------------------------------------------------------------\u001b[0m",
            "\u001b[0;31mNameError\u001b[0m                                 Traceback (most recent call last)",
            "\u001b[0;32m<ipython-input-1-1b129a03d5ae>\u001b[0m in \u001b[0;36m<module>\u001b[0;34m\u001b[0m\n\u001b[1;32m      3\u001b[0m \u001b[0;34m\u001b[0m\u001b[0m\n\u001b[1;32m      4\u001b[0m \u001b[0;32mfor\u001b[0m \u001b[0mi\u001b[0m \u001b[0;32min\u001b[0m \u001b[0mrange\u001b[0m\u001b[0;34m(\u001b[0m\u001b[0;36m30\u001b[0m\u001b[0;34m,\u001b[0m \u001b[0;36m600\u001b[0m\u001b[0;34m)\u001b[0m\u001b[0;34m:\u001b[0m\u001b[0;34m\u001b[0m\u001b[0;34m\u001b[0m\u001b[0m\n\u001b[0;32m----> 5\u001b[0;31m   \u001b[0mtrain_x\u001b[0m\u001b[0;34m.\u001b[0m\u001b[0mappend\u001b[0m\u001b[0;34m(\u001b[0m\u001b[0mtrain\u001b[0m\u001b[0;34m[\u001b[0m\u001b[0mi\u001b[0m\u001b[0;34m-\u001b[0m\u001b[0;36m30\u001b[0m\u001b[0;34m:\u001b[0m\u001b[0mi\u001b[0m\u001b[0;34m,\u001b[0m \u001b[0;36m0\u001b[0m\u001b[0;34m]\u001b[0m\u001b[0;34m)\u001b[0m\u001b[0;34m\u001b[0m\u001b[0;34m\u001b[0m\u001b[0m\n\u001b[0m\u001b[1;32m      6\u001b[0m   \u001b[0mtrain_y\u001b[0m\u001b[0;34m.\u001b[0m\u001b[0mappend\u001b[0m\u001b[0;34m(\u001b[0m\u001b[0mtrain\u001b[0m\u001b[0;34m[\u001b[0m\u001b[0mi\u001b[0m\u001b[0;34m,\u001b[0m \u001b[0;36m0\u001b[0m\u001b[0;34m]\u001b[0m\u001b[0;34m)\u001b[0m\u001b[0;34m\u001b[0m\u001b[0;34m\u001b[0m\u001b[0m\n\u001b[1;32m      7\u001b[0m \u001b[0;34m\u001b[0m\u001b[0m\n",
            "\u001b[0;31mNameError\u001b[0m: name 'train' is not defined"
          ]
        }
      ],
      "source": [
        "train_x=[]\n",
        "train_y=[]\n",
        "\n",
        "for i in range(30, 600):\n",
        "  train_x.append(train[i-30:i, 0])\n",
        "  train_y.append(train[i, 0])\n",
        "\n",
        "train_x = np.array(train_x)\n",
        "train_y = np.array(train_y)"
      ]
    },
    {
      "cell_type": "code",
      "execution_count": null,
      "metadata": {
        "colab": {
          "base_uri": "https://localhost:8080/"
        },
        "id": "ubnNaZUcJo1K",
        "outputId": "bf791d2d-6bd5-4087-81c2-4a880733ebf8"
      },
      "outputs": [
        {
          "data": {
            "text/plain": [
              "(570, 30)"
            ]
          },
          "execution_count": 13,
          "metadata": {},
          "output_type": "execute_result"
        }
      ],
      "source": [
        "train_x.shape"
      ]
    },
    {
      "cell_type": "code",
      "execution_count": null,
      "metadata": {
        "id": "ZhB8X3kRrfje"
      },
      "outputs": [],
      "source": [
        "train_x = np.reshape(train_x, (train_x.shape[0], train_x.shape[1], 1))\n"
      ]
    },
    {
      "cell_type": "markdown",
      "metadata": {
        "id": "No8ssWlczeO1"
      },
      "source": [
        "#Model Development\n"
      ]
    },
    {
      "cell_type": "code",
      "execution_count": null,
      "metadata": {
        "id": "oxol6FtS0yZM"
      },
      "outputs": [],
      "source": [
        "model = Sequential()\n",
        "\n",
        "model.add(LSTM (units=100, return_sequences= True, input_shape = (train_x.shape[1], 1)))\n",
        "model.add(Dropout(rate=0.2))\n",
        "\n",
        "model.add(LSTM (units=100, return_sequences= True))\n",
        "model.add(Dropout(rate=0.2))\n",
        "\n",
        "model.add(LSTM (units=100, return_sequences= True))\n",
        "model.add(Dropout(rate=0.2))\n",
        "\n",
        "model.add(LSTM (units=100, return_sequences= True))\n",
        "model.add(Dropout(rate=0.2))\n",
        "\n",
        "model.add(LSTM (units=100))\n",
        "model.add(Dropout(rate=0.2))\n",
        "\n",
        "model.add(Dense(units=1))\n",
        "\n",
        "model.compile(loss='mean_squared_error', optimizer='adam')\n"
      ]
    },
    {
      "cell_type": "code",
      "execution_count": null,
      "metadata": {
        "colab": {
          "base_uri": "https://localhost:8080/"
        },
        "id": "HWyE41fr4bEG",
        "outputId": "b1d85343-6a72-40c8-e9ec-35d7f7c54c24"
      },
      "outputs": [
        {
          "name": "stdout",
          "output_type": "stream",
          "text": [
            "Model: \"sequential\"\n",
            "_________________________________________________________________\n",
            " Layer (type)                Output Shape              Param #   \n",
            "=================================================================\n",
            " lstm (LSTM)                 (None, 30, 100)           40800     \n",
            "                                                                 \n",
            " dropout (Dropout)           (None, 30, 100)           0         \n",
            "                                                                 \n",
            " lstm_1 (LSTM)               (None, 30, 100)           80400     \n",
            "                                                                 \n",
            " dropout_1 (Dropout)         (None, 30, 100)           0         \n",
            "                                                                 \n",
            " lstm_2 (LSTM)               (None, 30, 100)           80400     \n",
            "                                                                 \n",
            " dropout_2 (Dropout)         (None, 30, 100)           0         \n",
            "                                                                 \n",
            " lstm_3 (LSTM)               (None, 30, 100)           80400     \n",
            "                                                                 \n",
            " dropout_3 (Dropout)         (None, 30, 100)           0         \n",
            "                                                                 \n",
            " lstm_4 (LSTM)               (None, 100)               80400     \n",
            "                                                                 \n",
            " dropout_4 (Dropout)         (None, 100)               0         \n",
            "                                                                 \n",
            " dense (Dense)               (None, 1)                 101       \n",
            "                                                                 \n",
            "=================================================================\n",
            "Total params: 362,501\n",
            "Trainable params: 362,501\n",
            "Non-trainable params: 0\n",
            "_________________________________________________________________\n"
          ]
        }
      ],
      "source": [
        "model.summary()"
      ]
    },
    {
      "cell_type": "markdown",
      "metadata": {
        "id": "8sarnasCNp7H"
      },
      "source": [
        "#Model Training "
      ]
    },
    {
      "cell_type": "code",
      "execution_count": null,
      "metadata": {
        "colab": {
          "background_save": true,
          "base_uri": "https://localhost:8080/"
        },
        "id": "jFgPSHXr4jlO",
        "outputId": "5c0dbdac-d371-4f6a-fa0e-72c0bcb60c5e"
      },
      "outputs": [
        {
          "name": "stdout",
          "output_type": "stream",
          "text": [
            "Epoch 1/100\n",
            "36/36 [==============================] - 25s 154ms/step - loss: 0.0571\n",
            "Epoch 2/100\n",
            "36/36 [==============================] - 4s 102ms/step - loss: 0.0215\n",
            "Epoch 3/100\n",
            "36/36 [==============================] - 4s 102ms/step - loss: 0.0201\n",
            "Epoch 4/100\n",
            "36/36 [==============================] - 4s 102ms/step - loss: 0.0181\n",
            "Epoch 5/100\n",
            "36/36 [==============================] - 4s 102ms/step - loss: 0.0161\n",
            "Epoch 6/100\n",
            "36/36 [==============================] - 4s 103ms/step - loss: 0.0144\n",
            "Epoch 7/100\n",
            "36/36 [==============================] - 4s 102ms/step - loss: 0.0118\n",
            "Epoch 8/100\n",
            "36/36 [==============================] - 4s 103ms/step - loss: 0.0119\n",
            "Epoch 9/100\n",
            "36/36 [==============================] - 4s 102ms/step - loss: 0.0093\n",
            "Epoch 10/100\n",
            "36/36 [==============================] - 4s 102ms/step - loss: 0.0091\n",
            "Epoch 11/100\n",
            "36/36 [==============================] - 4s 102ms/step - loss: 0.0100\n",
            "Epoch 12/100\n",
            "36/36 [==============================] - 4s 101ms/step - loss: 0.0082\n",
            "Epoch 13/100\n",
            "36/36 [==============================] - 4s 103ms/step - loss: 0.0077\n",
            "Epoch 14/100\n",
            "36/36 [==============================] - 4s 102ms/step - loss: 0.0076\n",
            "Epoch 15/100\n",
            "36/36 [==============================] - 4s 103ms/step - loss: 0.0082\n",
            "Epoch 16/100\n",
            "36/36 [==============================] - 4s 103ms/step - loss: 0.0072\n",
            "Epoch 17/100\n",
            "36/36 [==============================] - 4s 102ms/step - loss: 0.0069\n",
            "Epoch 18/100\n",
            "36/36 [==============================] - 4s 102ms/step - loss: 0.0073\n",
            "Epoch 19/100\n",
            "36/36 [==============================] - 4s 104ms/step - loss: 0.0076\n",
            "Epoch 20/100\n",
            "36/36 [==============================] - 4s 102ms/step - loss: 0.0072\n",
            "Epoch 21/100\n",
            "36/36 [==============================] - 4s 105ms/step - loss: 0.0065\n",
            "Epoch 22/100\n",
            "36/36 [==============================] - 4s 103ms/step - loss: 0.0061\n",
            "Epoch 23/100\n",
            "36/36 [==============================] - 5s 152ms/step - loss: 0.0067\n",
            "Epoch 24/100\n",
            "36/36 [==============================] - 4s 102ms/step - loss: 0.0062\n",
            "Epoch 25/100\n",
            "36/36 [==============================] - 4s 103ms/step - loss: 0.0058\n",
            "Epoch 26/100\n",
            "36/36 [==============================] - 4s 102ms/step - loss: 0.0059\n",
            "Epoch 27/100\n",
            "36/36 [==============================] - 4s 102ms/step - loss: 0.0055\n",
            "Epoch 28/100\n",
            "36/36 [==============================] - 4s 102ms/step - loss: 0.0060\n",
            "Epoch 29/100\n",
            "36/36 [==============================] - 4s 103ms/step - loss: 0.0065\n",
            "Epoch 30/100\n",
            "36/36 [==============================] - 4s 102ms/step - loss: 0.0059\n",
            "Epoch 31/100\n",
            "36/36 [==============================] - 4s 103ms/step - loss: 0.0059\n",
            "Epoch 32/100\n",
            "36/36 [==============================] - 4s 103ms/step - loss: 0.0048\n",
            "Epoch 33/100\n",
            "36/36 [==============================] - 4s 104ms/step - loss: 0.0047\n",
            "Epoch 34/100\n",
            "36/36 [==============================] - 4s 103ms/step - loss: 0.0043\n",
            "Epoch 35/100\n",
            "36/36 [==============================] - 4s 102ms/step - loss: 0.0045\n",
            "Epoch 36/100\n",
            "36/36 [==============================] - 4s 102ms/step - loss: 0.0042\n",
            "Epoch 37/100\n",
            "36/36 [==============================] - 4s 102ms/step - loss: 0.0047\n",
            "Epoch 38/100\n",
            "36/36 [==============================] - 4s 104ms/step - loss: 0.0049\n",
            "Epoch 39/100\n",
            "36/36 [==============================] - 4s 103ms/step - loss: 0.0040\n",
            "Epoch 40/100\n",
            "36/36 [==============================] - 4s 103ms/step - loss: 0.0045\n",
            "Epoch 41/100\n",
            "36/36 [==============================] - 4s 102ms/step - loss: 0.0042\n",
            "Epoch 42/100\n",
            "36/36 [==============================] - 4s 102ms/step - loss: 0.0043\n",
            "Epoch 43/100\n",
            "36/36 [==============================] - 4s 102ms/step - loss: 0.0040\n",
            "Epoch 44/100\n",
            "36/36 [==============================] - 4s 101ms/step - loss: 0.0041\n",
            "Epoch 45/100\n",
            "36/36 [==============================] - 4s 103ms/step - loss: 0.0039\n",
            "Epoch 46/100\n",
            "36/36 [==============================] - 4s 102ms/step - loss: 0.0041\n",
            "Epoch 47/100\n",
            "36/36 [==============================] - 4s 102ms/step - loss: 0.0037\n",
            "Epoch 48/100\n",
            "36/36 [==============================] - 4s 102ms/step - loss: 0.0043\n",
            "Epoch 49/100\n",
            "36/36 [==============================] - 4s 103ms/step - loss: 0.0043\n",
            "Epoch 50/100\n",
            "36/36 [==============================] - 5s 137ms/step - loss: 0.0037\n",
            "Epoch 51/100\n",
            "36/36 [==============================] - 4s 102ms/step - loss: 0.0041\n",
            "Epoch 52/100\n",
            "36/36 [==============================] - 4s 102ms/step - loss: 0.0036\n",
            "Epoch 53/100\n",
            "36/36 [==============================] - 4s 103ms/step - loss: 0.0040\n",
            "Epoch 54/100\n",
            "36/36 [==============================] - 4s 103ms/step - loss: 0.0039\n",
            "Epoch 55/100\n",
            "36/36 [==============================] - 4s 101ms/step - loss: 0.0037\n",
            "Epoch 56/100\n",
            "36/36 [==============================] - 4s 100ms/step - loss: 0.0035\n",
            "Epoch 57/100\n",
            "36/36 [==============================] - 4s 101ms/step - loss: 0.0035\n",
            "Epoch 58/100\n",
            "36/36 [==============================] - 4s 101ms/step - loss: 0.0036\n",
            "Epoch 59/100\n",
            "36/36 [==============================] - 4s 100ms/step - loss: 0.0034\n",
            "Epoch 60/100\n",
            "36/36 [==============================] - 4s 100ms/step - loss: 0.0031\n",
            "Epoch 61/100\n",
            "36/36 [==============================] - 4s 101ms/step - loss: 0.0033\n",
            "Epoch 62/100\n",
            "36/36 [==============================] - 4s 102ms/step - loss: 0.0029\n",
            "Epoch 63/100\n",
            "36/36 [==============================] - 4s 102ms/step - loss: 0.0032\n",
            "Epoch 64/100\n",
            "36/36 [==============================] - 4s 101ms/step - loss: 0.0030\n",
            "Epoch 65/100\n",
            "36/36 [==============================] - 4s 101ms/step - loss: 0.0033\n",
            "Epoch 66/100\n",
            "36/36 [==============================] - 4s 100ms/step - loss: 0.0033\n",
            "Epoch 67/100\n",
            "36/36 [==============================] - 4s 101ms/step - loss: 0.0030\n",
            "Epoch 68/100\n",
            "36/36 [==============================] - 4s 101ms/step - loss: 0.0032\n",
            "Epoch 69/100\n",
            "36/36 [==============================] - 4s 101ms/step - loss: 0.0029\n",
            "Epoch 70/100\n",
            "36/36 [==============================] - 4s 100ms/step - loss: 0.0034\n",
            "Epoch 71/100\n",
            "36/36 [==============================] - 4s 100ms/step - loss: 0.0032\n",
            "Epoch 72/100\n",
            "36/36 [==============================] - 4s 101ms/step - loss: 0.0030\n",
            "Epoch 73/100\n",
            "36/36 [==============================] - 4s 101ms/step - loss: 0.0031\n",
            "Epoch 74/100\n",
            "36/36 [==============================] - 4s 100ms/step - loss: 0.0032\n",
            "Epoch 75/100\n",
            "36/36 [==============================] - 4s 101ms/step - loss: 0.0033\n",
            "Epoch 76/100\n",
            "36/36 [==============================] - 4s 100ms/step - loss: 0.0031\n",
            "Epoch 77/100\n",
            "36/36 [==============================] - 4s 99ms/step - loss: 0.0033\n",
            "Epoch 78/100\n",
            "36/36 [==============================] - 4s 101ms/step - loss: 0.0029\n",
            "Epoch 79/100\n",
            "36/36 [==============================] - 4s 101ms/step - loss: 0.0030\n",
            "Epoch 80/100\n",
            "36/36 [==============================] - 4s 101ms/step - loss: 0.0031\n",
            "Epoch 81/100\n",
            "36/36 [==============================] - 4s 101ms/step - loss: 0.0030\n",
            "Epoch 82/100\n",
            "36/36 [==============================] - 4s 100ms/step - loss: 0.0029\n",
            "Epoch 83/100\n",
            "36/36 [==============================] - 4s 99ms/step - loss: 0.0029\n",
            "Epoch 84/100\n",
            "36/36 [==============================] - 4s 100ms/step - loss: 0.0030\n",
            "Epoch 85/100\n",
            "36/36 [==============================] - 4s 100ms/step - loss: 0.0032\n",
            "Epoch 86/100\n",
            "36/36 [==============================] - 4s 99ms/step - loss: 0.0031\n",
            "Epoch 87/100\n",
            "36/36 [==============================] - 4s 100ms/step - loss: 0.0029\n",
            "Epoch 88/100\n",
            "36/36 [==============================] - 4s 102ms/step - loss: 0.0026\n",
            "Epoch 89/100\n",
            "36/36 [==============================] - 4s 103ms/step - loss: 0.0029\n",
            "Epoch 90/100\n",
            "36/36 [==============================] - 4s 103ms/step - loss: 0.0026\n",
            "Epoch 91/100\n",
            "36/36 [==============================] - 4s 102ms/step - loss: 0.0030\n",
            "Epoch 92/100\n",
            "36/36 [==============================] - 4s 103ms/step - loss: 0.0028\n",
            "Epoch 93/100\n",
            "36/36 [==============================] - 4s 104ms/step - loss: 0.0024\n",
            "Epoch 94/100\n",
            "36/36 [==============================] - 4s 104ms/step - loss: 0.0027\n",
            "Epoch 95/100\n",
            "36/36 [==============================] - 4s 104ms/step - loss: 0.0029\n",
            "Epoch 96/100\n",
            "36/36 [==============================] - 4s 104ms/step - loss: 0.0027\n",
            "Epoch 97/100\n",
            "36/36 [==============================] - 4s 104ms/step - loss: 0.0027\n",
            "Epoch 98/100\n",
            "36/36 [==============================] - 4s 102ms/step - loss: 0.0028\n",
            "Epoch 99/100\n",
            "36/36 [==============================] - 4s 103ms/step - loss: 0.0027\n",
            "Epoch 100/100\n",
            "36/36 [==============================] - 4s 103ms/step - loss: 0.0027\n"
          ]
        }
      ],
      "source": [
        "history= model.fit(train_x, train_y, epochs=100, batch_size=16)"
      ]
    },
    {
      "cell_type": "code",
      "execution_count": null,
      "metadata": {
        "colab": {
          "background_save": true
        },
        "id": "HtGNmGxR6nzU"
      },
      "outputs": [],
      "source": [
        "loss = history.history['loss']"
      ]
    },
    {
      "cell_type": "code",
      "execution_count": null,
      "metadata": {
        "colab": {
          "background_save": true
        },
        "id": "WfJPMRCN7GnN",
        "outputId": "cf60e24e-c73f-41a8-feb9-f10657a38e24"
      },
      "outputs": [
        {
          "data": {
            "text/plain": [
              "[<matplotlib.lines.Line2D at 0x7f2dfa2effd0>]"
            ]
          },
          "execution_count": 19,
          "metadata": {},
          "output_type": "execute_result"
        },
        {
          "data": {
            "image/png": "[encoded data removed]",
            "text/plain": [
              "<Figure size 432x288 with 1 Axes>"
            ]
          },
          "metadata": {},
          "output_type": "display_data"
        }
      ],
      "source": [
        "import matplotlib.pyplot as plt\n",
        "\n",
        "plt.plot(loss)"
      ]
    },
    {
      "cell_type": "markdown",
      "metadata": {
        "id": "URtVf-ryN0d_"
      },
      "source": [
        "#Prediction\n",
        "The test dataset is also preprocessed as training dataset for testing the performance of the model"
      ]
    },
    {
      "cell_type": "code",
      "execution_count": null,
      "metadata": {
        "colab": {
          "background_save": true
        },
        "id": "ntomPX9-7VjJ"
      },
      "outputs": [],
      "source": [
        "test_x=[]\n",
        "test_y=[]\n",
        "\n",
        "for i in range(30, 155):\n",
        "  test_x.append(test[i-30:i, 0])\n",
        "  test_y.append(test[i, 0])\n",
        "\n",
        "test_x = np.array(test_x)\n",
        "test_y = np.array(test_y)"
      ]
    },
    {
      "cell_type": "code",
      "execution_count": null,
      "metadata": {
        "colab": {
          "background_save": true
        },
        "id": "Hy6r0UXu78jR",
        "outputId": "77b64419-f588-4891-8685-95af686cb3f3"
      },
      "outputs": [
        {
          "name": "stdout",
          "output_type": "stream",
          "text": [
            "4/4 [==============================] - 2s 43ms/step\n"
          ]
        }
      ],
      "source": [
        "test_x = np.reshape(test_x, (test_x.shape[0], test_x.shape[1], 1))\n",
        "predict_y = model.predict(test_x)"
      ]
    },
    {
      "cell_type": "code",
      "execution_count": null,
      "metadata": {
        "colab": {
          "background_save": true
        },
        "id": "fHMS85_M9MB8"
      },
      "outputs": [],
      "source": [
        "predict_y =np.reshape(predict_y, (predict_y.shape[0], predict_y.shape[1]))\n",
        "test_y =np.reshape(test_y, (test_y.shape[0], 1))"
      ]
    },
    {
      "cell_type": "code",
      "execution_count": null,
      "metadata": {
        "colab": {
          "background_save": true
        },
        "id": "jpO_Ifim_y2c",
        "outputId": "c31c8d18-c8fa-40db-a8cf-516574569da0"
      },
      "outputs": [
        {
          "data": {
            "text/plain": [
              "(125, 1)"
            ]
          },
          "execution_count": 23,
          "metadata": {},
          "output_type": "execute_result"
        }
      ],
      "source": [
        "test_y.shape"
      ]
    },
    {
      "cell_type": "markdown",
      "metadata": {
        "id": "gjGsJdHGOUld"
      },
      "source": [
        "The result is transformed to initial form of dataset for getting appropriate value."
      ]
    },
    {
      "cell_type": "code",
      "execution_count": null,
      "metadata": {
        "colab": {
          "background_save": true
        },
        "id": "9hMsKInQ-5iy"
      },
      "outputs": [],
      "source": [
        "predict_y = scale.inverse_transform(predict_y)\n",
        "test_y = scale.inverse_transform(test_y)"
      ]
    },
    {
      "cell_type": "code",
      "execution_count": null,
      "metadata": {
        "colab": {
          "background_save": true
        },
        "id": "koTVBRVL-_gw",
        "outputId": "02573524-988e-4574-e60d-7a47d323ef5a"
      },
      "outputs": [
        {
          "data": {
            "image/png": "[encoded data removed]",
            "text/plain": [
              "<Figure size 432x288 with 1 Axes>"
            ]
          },
          "metadata": {},
          "output_type": "display_data"
        }
      ],
      "source": [
        "plt.plot(predict_y, color='red')\n",
        "plt.plot(test_y, color='blue')\n",
        "plt.show()"
      ]
    }
  ],
  "metadata": {
    "colab": {
      "collapsed_sections": [],
      "provenance": []
    },
    "kernelspec": {
      "display_name": "Python 3",
      "name": "python3"
    },
    "language_info": {
      "name": "python"
    }
  },
  "nbformat": 4,
  "nbformat_minor": 0
}